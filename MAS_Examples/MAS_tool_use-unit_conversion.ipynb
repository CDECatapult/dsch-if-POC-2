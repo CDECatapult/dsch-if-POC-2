{
 "cells": [
  {
   "cell_type": "markdown",
   "id": "68c78960-5ca3-4a13-abf7-cf7811866de9",
   "metadata": {},
   "source": [
    "## Tool Use / Function Calling: Unit Conversion\n",
    "NOTE\n",
    "Tool use is currently only available for LLMs that support OpenAI-comaptible tool call API."
   ]
  },
  {
   "cell_type": "code",
   "execution_count": 1,
   "id": "243014e9-a246-4e4f-afff-a50757db569e",
   "metadata": {},
   "outputs": [],
   "source": [
    "import os\n",
    "\n",
    "from utils import get_openai_api_key\n",
    "# OPENAI_API_KEY = get_openai_api_key()\n",
    "# llm_config={\"config_list\": [{\"model\": \"gpt-3.5-turbo\", \"api_key\": os.environ[\"OPENAI_API_KEY\"]}]}\n",
    "\n",
    "config_list=[\n",
    "    {\n",
    "        \"model\": \"NotRequired\", # Loaded with LiteLLM command\n",
    "        \"api_key\": \"NotRequired\", # Not needed\n",
    "        \"base_url\": \"http://52.56.167.144:4000\",  # Your LiteLLM URL\n",
    "        \"price\" : [0, 0]\n",
    "    }\n",
    "]\n",
    "\n",
    "# set a \"universal\" config for the agents\n",
    "llm_config = {\n",
    "   \"seed\": 42,  # change the seed for different trials\n",
    "    \"temperature\": 0,\n",
    "    \"config_list\": config_list,\n",
    "    \"cache_seed\": None, # Turns off caching, useful for testing different models\n",
    "}"
   ]
  },
  {
   "cell_type": "code",
   "execution_count": 2,
   "id": "6b3ee9d3-4986-4e7d-a18f-b3e9d8641d91",
   "metadata": {},
   "outputs": [
    {
     "name": "stdout",
     "output_type": "stream",
     "text": [
      "10 ft is 3.048 m\n",
      "100 ft^2 is 9.29 m^2\n",
      "10 ft^3 is 0.2832 m^3\n"
     ]
    }
   ],
   "source": [
    "from typing import Annotated, Literal\n",
    "\n",
    "def length_conversion(\n",
    "    value: Annotated[float, \"value\"],\n",
    "    from_unit: Annotated[Literal['ft', 'in', 'mi', 'm', 'km'], \"from unit\"],\n",
    "    to_unit: Annotated[Literal['m', 'cm', 'mm', 'in', 'yd', 'ft', 'km'], \"to unit\"]\n",
    ") -> float:\n",
    "    conversion_factors = {\n",
    "        ('ft', 'm'): 0.3048,\n",
    "        ('ft', 'cm'): 30.48,\n",
    "        ('ft', 'mm'): 304.8,\n",
    "        ('ft', 'in'): 12,\n",
    "        ('ft', 'yd'): 0.333,\n",
    "        ('in', 'ft'): 0.083,\n",
    "        ('in', 'm'): 0.0254,\n",
    "        ('in', 'cm'): 2.54,\n",
    "        ('mi', 'km'): 1.609,\n",
    "        ('mi', 'm'): 1609,\n",
    "        ('mi', 'ft'): 5280,\n",
    "        ('mi', 'yd'): 1760,\n",
    "        ('m', 'ft'): 3.281,\n",
    "        ('m', 'in'): 39.37,\n",
    "        ('m', 'yd'): 1.094,\n",
    "        ('m', 'mm'): 1000,\n",
    "        ('m', 'cm'): 100,\n",
    "        ('m', 'km'): 0.001,\n",
    "        ('km', 'm'): 1000,\n",
    "        ('km', 'mi'): 0.6215,\n",
    "        ('km', 'ft'): 3281\n",
    "    }\n",
    "    \n",
    "    if (from_unit, to_unit) in conversion_factors:\n",
    "        return value * conversion_factors[(from_unit, to_unit)]\n",
    "    else:\n",
    "        raise ValueError(f\"No conversion available from {from_unit} to {to_unit}\")\n",
    "\n",
    "def area_conversion(\n",
    "    value: Annotated[float, \"value\"],\n",
    "    from_unit: Annotated[Literal['ft^2', 'acres', 'mi^2', 'm^2', 'ha', 'km^2'], \"from unit\"],\n",
    "    to_unit: Annotated[Literal['m^2', 'ha', 'in^2', 'ft^2', 'acres', 'yd^2', 'cm^2', 'km^2'], \"to unit\"]\n",
    ") -> float:\n",
    "    conversion_factors = {\n",
    "        ('ft^2', 'm^2'): 0.0929,\n",
    "        ('ft^2', 'ha'): 9.29e-6,\n",
    "        ('ft^2', 'in^2'): 144,\n",
    "        ('acres', 'ft^2'): 43560,\n",
    "        ('acres', 'm^2'): 4046.86,\n",
    "        ('acres', 'ha'): 0.4047,\n",
    "        ('mi^2', 'acres'): 640,\n",
    "        ('mi^2', 'ft^2'): 2.788e7,\n",
    "        ('mi^2', 'ha'): 259,\n",
    "        ('mi^2', 'km^2'): 2.59,\n",
    "        ('m^2', 'ft^2'): 10.764,\n",
    "        ('m^2', 'yd^2'): 1.196,\n",
    "        ('m^2', 'in^2'): 1550,\n",
    "        ('m^2', 'cm^2'): 10000,\n",
    "        ('ha', 'acres'): 2.471,\n",
    "        ('ha', 'm^2'): 10000,\n",
    "        ('km^2', 'ft^2'): 1.076e7,\n",
    "        ('km^2', 'acres'): 247.1,\n",
    "        ('km^2', 'm^2'): 1e6,\n",
    "        ('km^2', 'mi^2'): 0.3861\n",
    "    }\n",
    "    \n",
    "    if (from_unit, to_unit) in conversion_factors:\n",
    "        return value * conversion_factors[(from_unit, to_unit)]\n",
    "    else:\n",
    "        raise ValueError(f\"No conversion available from {from_unit} to {to_unit}\")\n",
    "\n",
    "def volume_conversion(\n",
    "    value: Annotated[float, \"value\"],\n",
    "    from_unit: Annotated[Literal['ft^3', 'acre-ft', 'gal', 'L', 'cm^3', 'm^3', 'km^3'], \"from unit\"],\n",
    "    to_unit: Annotated[Literal['m^3', 'L', 'gal', 'ft^3', 'in^3', 'cm^3', 'mL', 'mi^3'], \"to unit\"]\n",
    ") -> float:\n",
    "    conversion_factors = {\n",
    "        ('ft^3', 'm^3'): 0.02832,\n",
    "        ('ft^3', 'L'): 28.32,\n",
    "        ('ft^3', 'gal'): 7.48,\n",
    "        ('ft^3', 'in^3'): 1728,\n",
    "        ('acre-ft', 'ft^3'): 4.354e4,\n",
    "        ('acre-ft', 'm^3'): 1233.48,\n",
    "        ('gal', 'm^3'): 0.003785,\n",
    "        ('gal', 'L'): 3.785,\n",
    "        ('gal', 'ft^3'): 0.134,\n",
    "        ('L', 'ft^3'): 0.035,\n",
    "        ('L', 'gal'): 0.2642,\n",
    "        ('L', 'in^3'): 61.02,\n",
    "        ('L', 'cm^3'): 1000,\n",
    "        ('L', 'mL'): 1000,\n",
    "        ('cm^3', 'mL'): 1,\n",
    "        ('m^3', 'gal'): 264.2,\n",
    "        ('m^3', 'ft^3'): 35.31,\n",
    "        ('km^3', 'm^3'): 1e9,\n",
    "        ('km^3', 'mi^3'): 0.24\n",
    "    }\n",
    "    \n",
    "    if (from_unit, to_unit) in conversion_factors:\n",
    "        return value * conversion_factors[(from_unit, to_unit)]\n",
    "    else:\n",
    "        raise ValueError(f\"No conversion available from {from_unit} to {to_unit}\")\n",
    "\n",
    "# Example usage\n",
    "try:\n",
    "    value = 10  # Example value for length\n",
    "    from_unit = 'ft'\n",
    "    to_unit = 'm'\n",
    "    converted_value = length_conversion(value, from_unit, to_unit)\n",
    "    print(f\"{value} {from_unit} is {converted_value} {to_unit}\")\n",
    "\n",
    "    value = 100  # Example value for area\n",
    "    from_unit = 'ft^2'\n",
    "    to_unit = 'm^2'\n",
    "    converted_value = area_conversion(value, from_unit, to_unit)\n",
    "    print(f\"{value} {from_unit} is {converted_value} {to_unit}\")\n",
    "\n",
    "    value = 10  # Example value for volume\n",
    "    from_unit = 'ft^3'\n",
    "    to_unit = 'm^3'\n",
    "    converted_value = volume_conversion(value, from_unit, to_unit)\n",
    "    print(f\"{value} {from_unit} is {converted_value} {to_unit}\")\n",
    "\n",
    "except ValueError as e:\n",
    "    print(e)\n"
   ]
  },
  {
   "cell_type": "code",
   "execution_count": 3,
   "id": "e02a5a47-dd5e-4047-8665-42170c3d2b53",
   "metadata": {},
   "outputs": [
    {
     "name": "stdout",
     "output_type": "stream",
     "text": [
      "10 kg is 22.0462 lb\n",
      "500 g is 0.5 kg\n"
     ]
    }
   ],
   "source": [
    "from typing import Annotated, Literal\n",
    "\n",
    "def mass_conversion(\n",
    "    value: Annotated[float, \"value\"],\n",
    "    from_unit: Annotated[Literal['kg', 'g', 'mg', 'lb', 'oz', 'ton'], \"from unit\"],\n",
    "    to_unit: Annotated[Literal['kg', 'g', 'mg', 'lb', 'oz', 'ton'], \"to unit\"]\n",
    ") -> float:\n",
    "    conversion_factors = {\n",
    "        ('kg', 'g'): 1000,\n",
    "        ('kg', 'mg'): 1e6,\n",
    "        ('kg', 'lb'): 2.20462,\n",
    "        ('kg', 'oz'): 35.274,\n",
    "        ('kg', 'ton'): 0.001,\n",
    "        ('g', 'kg'): 0.001,\n",
    "        ('g', 'mg'): 1000,\n",
    "        ('g', 'lb'): 0.00220462,\n",
    "        ('g', 'oz'): 0.035274,\n",
    "        ('g', 'ton'): 1e-6,\n",
    "        ('mg', 'kg'): 1e-6,\n",
    "        ('mg', 'g'): 0.001,\n",
    "        ('mg', 'lb'): 2.2046e-6,\n",
    "        ('mg', 'oz'): 3.5274e-5,\n",
    "        ('mg', 'ton'): 1e-9,\n",
    "        ('lb', 'kg'): 0.453592,\n",
    "        ('lb', 'g'): 453.592,\n",
    "        ('lb', 'mg'): 453592,\n",
    "        ('lb', 'oz'): 16,\n",
    "        ('lb', 'ton'): 0.000453592,\n",
    "        ('oz', 'kg'): 0.0283495,\n",
    "        ('oz', 'g'): 28.3495,\n",
    "        ('oz', 'mg'): 28349.5,\n",
    "        ('oz', 'lb'): 0.0625,\n",
    "        ('oz', 'ton'): 2.835e-5,\n",
    "        ('ton', 'kg'): 1000,\n",
    "        ('ton', 'g'): 1e6,\n",
    "        ('ton', 'mg'): 1e9,\n",
    "        ('ton', 'lb'): 2204.62,\n",
    "        ('ton', 'oz'): 35274\n",
    "    }\n",
    "    \n",
    "    if (from_unit, to_unit) in conversion_factors:\n",
    "        return value * conversion_factors[(from_unit, to_unit)]\n",
    "    else:\n",
    "        raise ValueError(f\"No conversion available from {from_unit} to {to_unit}\")\n",
    "\n",
    "# Example usage\n",
    "try:\n",
    "    value = 10  # Example value\n",
    "    from_unit = 'kg'\n",
    "    to_unit = 'lb'\n",
    "    converted_value = mass_conversion(value, from_unit, to_unit)\n",
    "    print(f\"{value} {from_unit} is {converted_value} {to_unit}\")\n",
    "\n",
    "    value = 500  # Example value\n",
    "    from_unit = 'g'\n",
    "    to_unit = 'kg'\n",
    "    converted_value = mass_conversion(value, from_unit, to_unit)\n",
    "    print(f\"{value} {from_unit} is {converted_value} {to_unit}\")\n",
    "\n",
    "except ValueError as e:\n",
    "    print(e)\n"
   ]
  },
  {
   "cell_type": "code",
   "execution_count": 7,
   "id": "7b7a02ac-93df-4558-992b-ab1273d5c548",
   "metadata": {},
   "outputs": [],
   "source": [
    "import os\n",
    "\n",
    "from autogen import ConversableAgent, AssistantAgent, UserProxyAgent\n",
    "\n",
    "# Let's first define the assistant agent that suggests tool calls.\n",
    "assistant = AssistantAgent(\n",
    "    name=\"Assistant\",\n",
    "    system_message=\"You are a helpful AI assistant. \"\n",
    "    \"You can help with simple calculations. \"\n",
    "    \"Return 'TERMINATE' when the task is done.\",\n",
    "    llm_config=llm_config,\n",
    "    max_consecutive_auto_reply=2,\n",
    ")\n",
    "\n",
    "# The user proxy agent is used for interacting with the assistant agent\n",
    "# and executes tool calls.\n",
    "user_proxy = UserProxyAgent(\n",
    "    name=\"User\",\n",
    "    llm_config=False,\n",
    "    is_termination_msg=lambda msg: msg.get(\"content\") is not None and \"TERMINATE\" in msg[\"content\"],\n",
    "    human_input_mode=\"NEVER\",\n",
    "    code_execution_config=False,\n",
    "    max_consecutive_auto_reply=2,\n",
    ")\n",
    "\n",
    "from autogen import register_function\n",
    "\n",
    "# Register the length_conversion function to the two agents.\n",
    "register_function(\n",
    "    length_conversion,\n",
    "    caller=assistant,  # The assistant agent can suggest calls to the length_conversion.\n",
    "    executor=user_proxy,  # The user proxy agent can execute length_conversion calls.\n",
    "    name=\"length_conversion\",  # By default, the function name is used as the tool name.\n",
    "    description=\"A length conversion tool in different metrics\",  # A description of the tool.\n",
    ")\n",
    "\n",
    "# Register the area_conversion function to the two agents.\n",
    "register_function(\n",
    "    area_conversion,\n",
    "    caller=assistant,  # The assistant agent can suggest calls to the area_conversion.\n",
    "    executor=user_proxy,  # The user proxy agent can execute area_conversion calls.\n",
    "    name=\"area_conversion\",  # By default, the function name is used as the tool name.\n",
    "    description=\"An area conversion tool in different metrics\",  # A description of the tool.\n",
    ")\n",
    "\n",
    "# Register the volume_conversion function to the two agents.\n",
    "register_function(\n",
    "    volume_conversion,\n",
    "    caller=assistant,  # The assistant agent can suggest calls to the volume_conversion.\n",
    "    executor=user_proxy,  # The user proxy agent can execute volume_conversion calls.\n",
    "    name=\"volume_conversion\",  # By default, the function name is used as the tool name.\n",
    "    description=\"A volume conversion tool in different metrics\",  # A description of the tool.\n",
    ")\n",
    "\n",
    "# Register the mass_conversion function to the two agents.\n",
    "register_function(\n",
    "    mass_conversion,\n",
    "    caller=assistant,  # The assistant agent can suggest calls to the mass_conversion.\n",
    "    executor=user_proxy,  # The user proxy agent can execute mass_conversion calls.\n",
    "    name=\"mass_conversion\",  # By default, the function name is used as the tool name.\n",
    "    description=\"A mass / weight conversion tool in different metrics\",  # A description of the tool.\n",
    ")\n"
   ]
  },
  {
   "cell_type": "code",
   "execution_count": 8,
   "id": "00125d22-58da-45aa-8a60-7aabd00bfe23",
   "metadata": {},
   "outputs": [
    {
     "name": "stdout",
     "output_type": "stream",
     "text": [
      "\u001b[33mUser\u001b[0m (to Assistant):\n",
      "\n",
      "Convert 100 ft^2 to m^2.\n",
      "\n",
      "--------------------------------------------------------------------------------\n",
      "\u001b[33mAssistant\u001b[0m (to User):\n",
      "\n",
      "\u001b[32m***** Suggested tool call (call_a515e363-0cd3-4ada-93eb-88ee80ec0d22): area_conversion *****\u001b[0m\n",
      "Arguments: \n",
      "{\"value\": 100, \"from_unit\": \"ft^2\", \"to_unit\": \"m^2\"}\n",
      "\u001b[32m********************************************************************************************\u001b[0m\n",
      "\n",
      "--------------------------------------------------------------------------------\n",
      "\u001b[35m\n",
      ">>>>>>>> EXECUTING FUNCTION area_conversion...\u001b[0m\n"
     ]
    },
    {
     "name": "stderr",
     "output_type": "stream",
     "text": [
      "[runtime logging] log_function_use: autogen logger is None\n"
     ]
    },
    {
     "name": "stdout",
     "output_type": "stream",
     "text": [
      "\u001b[33mUser\u001b[0m (to Assistant):\n",
      "\n",
      "\u001b[33mUser\u001b[0m (to Assistant):\n",
      "\n",
      "\u001b[32m***** Response from calling tool (call_a515e363-0cd3-4ada-93eb-88ee80ec0d22) *****\u001b[0m\n",
      "9.29\n",
      "\u001b[32m**********************************************************************************\u001b[0m\n",
      "\n",
      "--------------------------------------------------------------------------------\n",
      "\u001b[33mAssistant\u001b[0m (to User):\n",
      "\n",
      "\u001b[32m***** Suggested tool call (call_80bdeae1-a7d6-4325-9628-dfe6e5e3e25e): area_conversion *****\u001b[0m\n",
      "Arguments: \n",
      "{\"value\": 100, \"from_unit\": \"ft^2\", \"to_unit\": \"m^2\"}\n",
      "\u001b[32m********************************************************************************************\u001b[0m\n",
      "\n",
      "--------------------------------------------------------------------------------\n",
      "\u001b[35m\n",
      ">>>>>>>> EXECUTING FUNCTION area_conversion...\u001b[0m\n"
     ]
    },
    {
     "name": "stderr",
     "output_type": "stream",
     "text": [
      "[runtime logging] log_function_use: autogen logger is None\n"
     ]
    },
    {
     "name": "stdout",
     "output_type": "stream",
     "text": [
      "\u001b[33mUser\u001b[0m (to Assistant):\n",
      "\n",
      "\u001b[33mUser\u001b[0m (to Assistant):\n",
      "\n",
      "\u001b[32m***** Response from calling tool (call_80bdeae1-a7d6-4325-9628-dfe6e5e3e25e) *****\u001b[0m\n",
      "9.29\n",
      "\u001b[32m**********************************************************************************\u001b[0m\n",
      "\n",
      "--------------------------------------------------------------------------------\n"
     ]
    }
   ],
   "source": [
    "chat_result = user_proxy.initiate_chat(assistant, message=\"Convert 100 ft^2 to m^2.\")\n"
   ]
  },
  {
   "cell_type": "code",
   "execution_count": 10,
   "id": "c1a3632d-e769-4844-8f62-286aafb2589c",
   "metadata": {},
   "outputs": [
    {
     "name": "stdout",
     "output_type": "stream",
     "text": [
      "\u001b[33mUser\u001b[0m (to Assistant):\n",
      "\n",
      "Convert 10 ft to m.\n",
      "\n",
      "--------------------------------------------------------------------------------\n",
      "\u001b[33mAssistant\u001b[0m (to User):\n",
      "\n",
      "\u001b[32m***** Suggested tool call (call_33fc1c4b-82dc-47b3-b852-e8deb17dc633): length_conversion *****\u001b[0m\n",
      "Arguments: \n",
      "{\"value\": 10, \"from_unit\": \"ft\", \"to_unit\": \"m\"}\n",
      "\u001b[32m**********************************************************************************************\u001b[0m\n",
      "\n",
      "--------------------------------------------------------------------------------\n",
      "\u001b[35m\n",
      ">>>>>>>> EXECUTING FUNCTION length_conversion...\u001b[0m\n"
     ]
    },
    {
     "name": "stderr",
     "output_type": "stream",
     "text": [
      "[runtime logging] log_function_use: autogen logger is None\n"
     ]
    },
    {
     "name": "stdout",
     "output_type": "stream",
     "text": [
      "\u001b[33mUser\u001b[0m (to Assistant):\n",
      "\n",
      "\u001b[33mUser\u001b[0m (to Assistant):\n",
      "\n",
      "\u001b[32m***** Response from calling tool (call_33fc1c4b-82dc-47b3-b852-e8deb17dc633) *****\u001b[0m\n",
      "3.048\n",
      "\u001b[32m**********************************************************************************\u001b[0m\n",
      "\n",
      "--------------------------------------------------------------------------------\n",
      "\u001b[33mAssistant\u001b[0m (to User):\n",
      "\n",
      "\u001b[32m***** Suggested tool call (call_0bd4d995-244e-4a6b-b010-e08af4f36bde): length_conversion *****\u001b[0m\n",
      "Arguments: \n",
      "{\"value\": 10, \"from_unit\": \"ft\", \"to_unit\": \"m\"}\n",
      "\u001b[32m**********************************************************************************************\u001b[0m\n",
      "\n",
      "--------------------------------------------------------------------------------\n",
      "\u001b[35m\n",
      ">>>>>>>> EXECUTING FUNCTION length_conversion...\u001b[0m\n"
     ]
    },
    {
     "name": "stderr",
     "output_type": "stream",
     "text": [
      "[runtime logging] log_function_use: autogen logger is None\n"
     ]
    },
    {
     "name": "stdout",
     "output_type": "stream",
     "text": [
      "\u001b[33mUser\u001b[0m (to Assistant):\n",
      "\n",
      "\u001b[33mUser\u001b[0m (to Assistant):\n",
      "\n",
      "\u001b[32m***** Response from calling tool (call_0bd4d995-244e-4a6b-b010-e08af4f36bde) *****\u001b[0m\n",
      "3.048\n",
      "\u001b[32m**********************************************************************************\u001b[0m\n",
      "\n",
      "--------------------------------------------------------------------------------\n"
     ]
    }
   ],
   "source": [
    "chat_result = user_proxy.initiate_chat(assistant, message=\"Convert 10 ft to m.\")"
   ]
  },
  {
   "cell_type": "code",
   "execution_count": 18,
   "id": "18ea9763-574e-4d8a-8f0b-3c1799345bc9",
   "metadata": {},
   "outputs": [
    {
     "name": "stdout",
     "output_type": "stream",
     "text": [
      "\u001b[33mUser\u001b[0m (to Assistant):\n",
      "\n",
      "Convert 22.0462 lb to kg.\n",
      "\n",
      "--------------------------------------------------------------------------------\n",
      "\u001b[33mAssistant\u001b[0m (to User):\n",
      "\n",
      "\u001b[32m***** Suggested tool call (call_43d8dfd6-2411-4dcd-8237-9ae5ef02c11f): mass_conversion *****\u001b[0m\n",
      "Arguments: \n",
      "{\"value\": 22.0462, \"from_unit\": \"lb\", \"to_unit\": \"kg\"}\n",
      "\u001b[32m********************************************************************************************\u001b[0m\n",
      "\n",
      "--------------------------------------------------------------------------------\n",
      "\u001b[35m\n",
      ">>>>>>>> EXECUTING FUNCTION mass_conversion...\u001b[0m\n"
     ]
    },
    {
     "name": "stderr",
     "output_type": "stream",
     "text": [
      "[runtime logging] log_function_use: autogen logger is None\n"
     ]
    },
    {
     "name": "stdout",
     "output_type": "stream",
     "text": [
      "\u001b[33mUser\u001b[0m (to Assistant):\n",
      "\n",
      "\u001b[33mUser\u001b[0m (to Assistant):\n",
      "\n",
      "\u001b[32m***** Response from calling tool (call_43d8dfd6-2411-4dcd-8237-9ae5ef02c11f) *****\u001b[0m\n",
      "9.9999799504\n",
      "\u001b[32m**********************************************************************************\u001b[0m\n",
      "\n",
      "--------------------------------------------------------------------------------\n",
      "\u001b[33mAssistant\u001b[0m (to User):\n",
      "\n",
      "\u001b[32m***** Suggested tool call (call_325902f8-7260-4ae6-948a-c8feefc9f41d): mass_conversion *****\u001b[0m\n",
      "Arguments: \n",
      "{\"value\": 22.0462, \"from_unit\": \"lb\", \"to_unit\": \"kg\"}\n",
      "\u001b[32m********************************************************************************************\u001b[0m\n",
      "\n",
      "--------------------------------------------------------------------------------\n",
      "\u001b[35m\n",
      ">>>>>>>> EXECUTING FUNCTION mass_conversion...\u001b[0m\n"
     ]
    },
    {
     "name": "stderr",
     "output_type": "stream",
     "text": [
      "[runtime logging] log_function_use: autogen logger is None\n"
     ]
    },
    {
     "name": "stdout",
     "output_type": "stream",
     "text": [
      "\u001b[33mUser\u001b[0m (to Assistant):\n",
      "\n",
      "\u001b[33mUser\u001b[0m (to Assistant):\n",
      "\n",
      "\u001b[32m***** Response from calling tool (call_325902f8-7260-4ae6-948a-c8feefc9f41d) *****\u001b[0m\n",
      "9.9999799504\n",
      "\u001b[32m**********************************************************************************\u001b[0m\n",
      "\n",
      "--------------------------------------------------------------------------------\n"
     ]
    }
   ],
   "source": [
    "chat_result = user_proxy.initiate_chat(assistant, message=\"Convert 22.0462 lb to kg.\")"
   ]
  },
  {
   "cell_type": "code",
   "execution_count": 9,
   "id": "c2848e43-e654-4fb0-9409-4cc33c558c75",
   "metadata": {},
   "outputs": [
    {
     "data": {
      "text/plain": [
       "{'length_conversion': <function __main__.length_conversion(value: typing.Annotated[float, 'value'], from_unit: Annotated[Literal['ft', 'in', 'mi', 'm', 'km'], 'from unit'], to_unit: Annotated[Literal['m', 'cm', 'mm', 'in', 'yd', 'ft', 'km'], 'to unit']) -> float>,\n",
       " 'area_conversion': <function __main__.area_conversion(value: typing.Annotated[float, 'value'], from_unit: Annotated[Literal['ft^2', 'acres', 'mi^2', 'm^2', 'ha', 'km^2'], 'from unit'], to_unit: Annotated[Literal['m^2', 'ha', 'in^2', 'ft^2', 'acres', 'yd^2', 'cm^2', 'km^2'], 'to unit']) -> float>,\n",
       " 'volume_conversion': <function __main__.volume_conversion(value: typing.Annotated[float, 'value'], from_unit: Annotated[Literal['ft^3', 'acre-ft', 'gal', 'L', 'cm^3', 'm^3', 'km^3'], 'from unit'], to_unit: Annotated[Literal['m^3', 'L', 'gal', 'ft^3', 'in^3', 'cm^3', 'mL', 'mi^3'], 'to unit']) -> float>,\n",
       " 'mass_conversion': <function __main__.mass_conversion(value: typing.Annotated[float, 'value'], from_unit: Annotated[Literal['kg', 'g', 'mg', 'lb', 'oz', 'ton'], 'from unit'], to_unit: Annotated[Literal['kg', 'g', 'mg', 'lb', 'oz', 'ton'], 'to unit']) -> float>}"
      ]
     },
     "execution_count": 9,
     "metadata": {},
     "output_type": "execute_result"
    }
   ],
   "source": [
    "user_proxy.function_map"
   ]
  },
  {
   "cell_type": "code",
   "execution_count": null,
   "id": "46c5ac78-c0a6-4e55-aab7-55438fa0d388",
   "metadata": {
    "editable": true,
    "slideshow": {
     "slide_type": ""
    },
    "tags": []
   },
   "outputs": [],
   "source": []
  }
 ],
 "metadata": {
  "kernelspec": {
   "display_name": "Python 3 (ipykernel)",
   "language": "python",
   "name": "python3"
  },
  "language_info": {
   "codemirror_mode": {
    "name": "ipython",
    "version": 3
   },
   "file_extension": ".py",
   "mimetype": "text/x-python",
   "name": "python",
   "nbconvert_exporter": "python",
   "pygments_lexer": "ipython3",
   "version": "3.11.9"
  }
 },
 "nbformat": 4,
 "nbformat_minor": 5
}
